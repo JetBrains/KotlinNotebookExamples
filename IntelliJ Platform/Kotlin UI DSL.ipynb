{
 "cells": [
  {
   "metadata": {},
   "cell_type": "markdown",
   "source": [
    "# Kotlin UI DSL\n",
    "\n",
    "This notebook renders a basic UI elements created using the [Kotlin UI DSL](https://plugins.jetbrains.com/docs/intellij/kotlin-ui-dsl-version-2.html)."
   ]
  },
  {
   "metadata": {
    "ExecuteTime": {
     "end_time": "2025-07-10T11:11:43.071843Z",
     "start_time": "2025-07-10T11:11:42.908466Z"
    }
   },
   "cell_type": "code",
   "source": "%use intellij-platform",
   "outputs": [
    {
     "data": {
      "text/plain": [
       "IntelliJ Platform integration is loaded"
      ]
     },
     "metadata": {},
     "output_type": "display_data"
    }
   ],
   "execution_count": 1
  },
  {
   "metadata": {
    "ExecuteTime": {
     "end_time": "2025-07-10T11:11:43.168437Z",
     "start_time": "2025-07-10T11:11:43.081383Z"
    }
   },
   "cell_type": "code",
   "source": [
    "import com.intellij.ui.dsl.builder.panel\n",
    "import com.intellij.util.ui.JBUI\n",
    "\n",
    "panel {\n",
    "    row {\n",
    "        checkBox(\"Check me!\")\n",
    "            .comment(\"A comment for this checkbox\")\n",
    "    }\n",
    "}.apply {\n",
    "    size = JBUI.size(500, 200)\n",
    "    border = JBUI.Borders.empty(10, 20)\n",
    "}"
   ],
   "outputs": [
    {
     "data": {
      "image/png": "[encoded data removed]",
      "application/vnd.idea.swing": "2"
     },
     "execution_count": 2,
     "metadata": {},
     "output_type": "execute_result"
    }
   ],
   "execution_count": 2
  },
  {
   "metadata": {},
   "cell_type": "markdown",
   "source": "_Note: defining the `size` property is mandatory for rendering Swing components in the cell answer._"
  }
 ],
 "metadata": {
  "kernelspec": {
   "display_name": "Kotlin",
   "language": "kotlin",
   "name": "kotlin"
  },
  "language_info": {
   "name": "kotlin",
   "version": "2.2.20-dev-4982",
   "mimetype": "text/x-kotlin",
   "file_extension": ".kt",
   "pygments_lexer": "kotlin",
   "codemirror_mode": "text/x-kotlin",
   "nbconvert_exporter": ""
  },
  "ktnbPluginMetadata": {
   "sessionRunMode": "IDE_PROCESS"
  }
 },
 "nbformat": 4,
 "nbformat_minor": 0
}
